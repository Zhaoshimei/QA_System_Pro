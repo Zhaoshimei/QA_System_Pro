{
 "cells": [
  {
   "cell_type": "markdown",
   "metadata": {},
   "source": [
    "# Question answering with TensorFlow\n",
    "## Using advanced neural networks to tackle challenging natural language tasks.\n",
    "\n",
    "##### By Steven Hewitt\n",
    "\n",
    "A question answering (QA) system is a system designed to answer questions posed in natural language. Some QA systems draw information from a source such as text or an image in order to answer a specific question. These \"sourced\" systems can be partitioned into two major subcategories: open domain, in which the questions can be virtually anything, but aren't focused on specific material, and closed domain, in which the questions have concrete limitations, in that they relate to some predefined source (e.g., a provided context or a specific field, like medicine).\n",
    "\n",
    "This  article will guide you through the task of creating and coding a question answering system using [TensorFlow](https://www.tensorflow.org/). We'll create a QA system that is based on a neural network, and sourced using a closed domain. In order to do this, we'll use a simplified version of a model known as a dynamic memory network (DMN), introduced by Kumar, et al, in their paper [\"Ask Me Anything: Dynamic Memory Networks for Natural Language Processing.\"](https://arxiv.org/abs/1506.07285)\n",
    "\n",
    "\n",
    "### Before we get started\n",
    "\n",
    "In addition to installing [TensorFlow](https://www.tensorflow.org/) version 1.2+ in Python 3, make sure you’ve installed each of the following:\n",
    "- [Jupyter](http://jupyter.org)\n",
    "- [Numpy](http://www.numpy.org)\n",
    "- [Matplotlib](http://matplotlib.org)\n",
    "\n",
    "Optionally, you can install TQDM to view training progess and get training speed metrics, but it's not required. The code and Jupyter Notebook for this article is [on GitHub](https://github.com/Steven-Hewitt/QA-with-Tensorflow), and I encourage you to grab it and follow along. If this is your first time working with TensorFlow, I recommend that you first check out Aaron Schumacher's [\"Hello, TensorFlow\"](https://www.oreilly.com/learning/hello-tensorflow) for a quick overview of what TensorFlow is and how it works. If this is your first time using TensorFlow for natural language tasks, I would also encourage you to check out [\"Textual Entailment with TensorFlow\"](#link not live yet), as it introduces several concepts that will be used to help construct this network.\n",
    "\n",
    "Let's start by importing all of the relevant libraries:"
   ]
  },
  {
   "cell_type": "code",
   "execution_count": 1,
   "metadata": {},
   "outputs": [],
   "source": [
    "%matplotlib inline\n",
    "\n",
    "import tensorflow as tf\n",
    "import numpy as np\n",
    "import matplotlib.pyplot as plt\n",
    "import matplotlib.ticker as ticker\n",
    "import urllib\n",
    "import sys\n",
    "import os\n",
    "import zipfile\n",
    "import tarfile\n",
    "import json \n",
    "import hashlib\n",
    "import re\n",
    "import itertools"
   ]
  },
  {
   "cell_type": "markdown",
   "metadata": {},
   "source": [
    "### Exploring bAbI\n",
    "\n",
    "For this project, we will be using the [bAbI data set](https://research.fb.com/downloads/babi) created by Facebook. This data set, like all QA data sets, contains questions. Questions in bAbI are very straightforward, although some are trickier than others. All of the questions in this data set have an associated context, which is a sequence of sentences guaranteed to have the details necessary to answer the question. In addition, the data set provides the correct answer to each question.\n",
    "\n",
    "Questions in the bAbI data set are partitioned into 20 different tasks based on what skills are required to answer the question. Each task has its own set of questions for training, and a separate set for testing. These tasks test a variety of standard natural language processing abilities, including time reasoning (task #14) and inductive logic (task #16). To get a better idea of this, let's consider a concrete example of a question that our QA system will be expected to answer, as shown in Figure 1.\n",
    "\n",
    "<img src=\"questionex.png\">\n",
    "<center><em>Figure 1.</em> An example of bAbI's data, with the context in blue, question in gold, and answer in green. Credit: Steven Hewitt.</center>\n",
    "\n",
    "This task (#5) tests the network's understanding of actions where there are relationships between three objects. Grammatically speaking, it tests to see if the system can distinguish between the subject, direct object, and indirect object. In this case, the question asks for the indirect object in the last sentence -- the person who received the milk from Jeff. The network must make the distinction between the fifth sentence, in which Bill was the subject and Jeff was the indirect object, and the sixth sentence, in which Jeff was the subject. Of course, our network doesn't receive any explicit training on what a subject or object is, and has to extrapolate this understanding from the examples in the training data.\n",
    "\n",
    "Another minor problem the system must solve is understanding the various synonyms used throughout the data set. Jeff \"handed\" the milk to Bill, but he could have just as easily \"gave\" it or \"passed\" it to him. In this regard, though, the network doesn't have to start from scratch. It gets some assistance in the form of word vectorization, which can store infomation about the definition of words and their relations to other words. Similar words have similar vectorizations, which means that the network can treat them as nearly the same word. For word vectorization, we'll use Stanford’s Global Vectors for Word Representation (GloVe), which I’ve discussed previously in more detail [here](https://www.oreilly.com/learning/textual-entailment-with-tensorflow).\n",
    "\n",
    "Many of the tasks have a restriction that forces the context to contain the exact word used for the answer. In our example, the answer \"Bill\" can be found in the context. We will use this restriction to our advantage, as we can search the context for the word closest in meaning to our final result.\n",
    "\n",
    "Note: It might take a few minutes to download and unpack all of this data, so run the next three code snippets to get that started as quickly as possible. As you run the code, it will download bAbI and GloVe, and unpack the necessary files from those data sets so they can be used in our network. "
   ]
  },
  {
   "cell_type": "code",
   "execution_count": 1,
   "metadata": {},
   "outputs": [],
   "source": [
    "\n",
    "glove_zip_file = \"glove.6B.zip\"\n",
    "glove_vectors_file = \"glove.6B.50d.txt\"\n",
    "\n",
    "# 15 MB\n",
    "data_set_zip = \"tasks_1-20_v1-2.tar.gz\"\n",
    "\n",
    "#Select \"task 5\"\n",
    "train_set_file = \"qa5_three-arg-relations_train.txt\"\n",
    "test_set_file = \"qa5_three-arg-relations_test.txt\"\n",
    "\n",
    "train_set_post_file = \"tasks_1-20_v1-2/en/\"+train_set_file\n",
    "test_set_post_file = \"tasks_1-20_v1-2/en/\"+test_set_file"
   ]
  },
  {
   "cell_type": "code",
   "execution_count": 3,
   "metadata": {},
   "outputs": [],
   "source": [
    "import os\n",
    "try: from urllib.request import urlretrieve, urlopen\n",
    "except ImportError: \n",
    "    from urllib import urlretrieve\n",
    "    from urllib2 import urlopen\n",
    "#large file - 862 MB\n",
    "if (not os.path.isfile(glove_zip_file) and\n",
    "    not os.path.isfile(glove_vectors_file)):\n",
    "    urlretrieve (\"http://nlp.stanford.edu/data/glove.6B.zip\", \n",
    "                 glove_zip_file)\n",
    "if (not os.path.isfile(data_set_zip) and\n",
    "    not (os.path.isfile(train_set_file) and os.path.isfile(test_set_file))):\n",
    "    urlretrieve (\"https://s3.amazonaws.com/text-datasets/babi_tasks_1-20_v1-2.tar.gz\", \n",
    "                 data_set_zip)"
   ]
  },
  {
   "cell_type": "code",
   "execution_count": 4,
   "metadata": {},
   "outputs": [],
   "source": [
    "def unzip_single_file(zip_file_name, output_file_name):\n",
    "    \"\"\"\n",
    "        If the output file is already created, don't recreate\n",
    "        If the output file does not exist, create it from the zipFile\n",
    "    \"\"\"\n",
    "    if not os.path.isfile(output_file_name):\n",
    "        with open(output_file_name, 'wb') as out_file:\n",
    "            with zipfile.ZipFile(zip_file_name) as zipped:\n",
    "                for info in zipped.infolist():\n",
    "                    if output_file_name in info.filename:\n",
    "                        with zipped.open(info) as requested_file:\n",
    "                            out_file.write(requested_file.read())\n",
    "                            return\n",
    "def targz_unzip_single_file(zip_file_name, output_file_name, interior_relative_path):\n",
    "    if not os.path.isfile(output_file_name):\n",
    "        with tarfile.open(zip_file_name) as un_zipped:\n",
    "            un_zipped.extract(interior_relative_path+output_file_name)    \n",
    "unzip_single_file(glove_zip_file, glove_vectors_file)\n",
    "targz_unzip_single_file(data_set_zip, train_set_file, \"tasks_1-20_v1-2/en/\")\n",
    "targz_unzip_single_file(data_set_zip, test_set_file, \"tasks_1-20_v1-2/en/\")"
   ]
  },
  {
   "cell_type": "markdown",
   "metadata": {},
   "source": [
    "\n",
    "\n",
    "### Parsing GloVe and handling unknown tokens\n",
    "\n",
    "In \"[Textual Entailment with TensorFlow](https://www.oreilly.com/learning/textual-entailment-with-tensorflow),\" I discuss `sentence2sequence`, which is a function that would turn a string into a matrix, based on the mapping defined by GloVe. This function split up the string into tokens, which are smaller strings that are roughly equivalent to punctuation, words, or parts of words. For example, in \"Bill traveled to the kitchen,\" there are six tokens: five that correspond to each of the words, and the last for the period at the end. Each token gets individually vectorized, resulting in a list of vectors corresponding to each sentence, as shown in Figure 2.\n",
    "\n",
    "<img src=\"vectorize.png\">\n",
    "<center><em>Figure 2.</em> The process of turning a sentence into vectors. Credit: Steven Hewitt.</center>\n",
    "\n",
    "In some tasks in bAbI, the system will encounter words that are not in the GloVe word vectorization. In order for the network to be capable of processing these unknown words, we need to maintain a consistent vectorization of those words. Common practice is to replace all unknown tokens with a single `<UNK>` vector, but this isn't always effective. Instead, we can use randomization to draw a new vectorization for each unique unknown token.\n",
    "\n",
    "The first time we run across a new unknown token, we simply draw a new vectorization from the (Gaussian-approximated) distribution of the original GloVe vectorizations, and add that vectorization back to the GloVe word map . To gather the distribution hyperparameters, Numpy has functions that automatically calculate variance and mean.\n",
    "\n",
    "`fill_unk` will take care of giving us a new word vectorization whenever we need one."
   ]
  },
  {
   "cell_type": "code",
   "execution_count": 5,
   "metadata": {},
   "outputs": [],
   "source": [
    "# Deserialize GloVe vectors\n",
    "glove_wordmap = {}\n",
    "with open(glove_vectors_file, \"r\", encoding=\"utf8\") as glove:\n",
    "    for line in glove:\n",
    "        name, vector = tuple(line.split(\" \", 1))\n",
    "        glove_wordmap[name] = np.fromstring(vector, sep=\" \")"
   ]
  },
  {
   "cell_type": "code",
   "execution_count": 6,
   "metadata": {},
   "outputs": [],
   "source": [
    "wvecs = []\n",
    "for item in glove_wordmap.items():\n",
    "    wvecs.append(item[1])\n",
    "s = np.vstack(wvecs)\n",
    "\n",
    "# Gather the distribution hyperparameters\n",
    "v = np.var(s,0) \n",
    "m = np.mean(s,0) \n",
    "RS = np.random.RandomState()\n",
    "\n",
    "def fill_unk(unk):\n",
    "    global glove_wordmap\n",
    "    glove_wordmap[unk] = RS.multivariate_normal(m,np.diag(v))\n",
    "    return glove_wordmap[unk]"
   ]
  },
  {
   "cell_type": "markdown",
   "metadata": {},
   "source": [
    "### Known or unknown\n",
    "\n",
    "The limited vocabulary of bAbI tasks means the network can learn the relationships between words even without knowing what the words mean. However, for speed of learning, we should choose vectorizations that have inherent meaning when we can. To do this, we use a greedy search for words that exist in Stanford's GLoVe word vectorization data set, and if the word does not exist, then we fill in the entire word with an unknown, randomly created, new representation.\n",
    "\n",
    "Under that model of word vectorization, we can define a new `sentence2sequence`:"
   ]
  },
  {
   "cell_type": "code",
   "execution_count": 7,
   "metadata": {},
   "outputs": [],
   "source": [
    "def sentence2sequence(sentence):\n",
    "    \"\"\"\n",
    "     \n",
    "    - Turns an input paragraph into an (m,d) matrix, \n",
    "        where n is the number of tokens in the sentence\n",
    "        and d is the number of dimensions each word vector has.\n",
    "    \n",
    "      TensorFlow doesn't need to be used here, as simply\n",
    "      turning the sentence into a sequence based off our \n",
    "      mapping does not need the computational power that\n",
    "      TensorFlow provides. Normal Python suffices for this task.\n",
    "    \"\"\"\n",
    "    tokens = sentence.strip('\"(),-').lower().split(\" \")\n",
    "    rows = []\n",
    "    words = []\n",
    "    #Greedy search for tokens\n",
    "    for token in tokens:\n",
    "        i = len(token)\n",
    "        while len(token) > 0:\n",
    "            word = token[:i]\n",
    "            if word in glove_wordmap:\n",
    "                rows.append(glove_wordmap[word])\n",
    "                words.append(word)\n",
    "                token = token[i:]\n",
    "                i = len(token)\n",
    "                continue\n",
    "            else:\n",
    "                i = i-1\n",
    "            if i == 0:\n",
    "                # word OOV\n",
    "                # https://arxiv.org/pdf/1611.01436.pdf\n",
    "                rows.append(fill_unk(token))\n",
    "                words.append(token)\n",
    "                break\n",
    "    return np.array(rows), words"
   ]
  },
  {
   "cell_type": "markdown",
   "metadata": {},
   "source": [
    "Now we can package all the data together needed for each question, including the vectorization of the contexts, questions, and answers. In bAbI, contexts are defined by a numbered sequence of sentences, which `contextualize` deserializes into a list of sentences associated with one context. Questions and answers are on the same line, separated by tabs, so we can use tabs as a marker of whether a specific line refers to a question or not. When the numbering resets, future questions will refer to the new context (note that often there is more than one question corresponding to a single context). Answers also contain one other piece of information that we keep but don't need to use: the number(s) corresponding to the sentences needed to answer the question, in the reference order. In our system, the network will teach itself which sentences are needed to answer the question. "
   ]
  },
  {
   "cell_type": "code",
   "execution_count": 8,
   "metadata": {},
   "outputs": [],
   "source": [
    "def contextualize(set_file):\n",
    "    \"\"\"\n",
    "    Read in the dataset of questions and build question+answer -> context sets.\n",
    "    Output is a list of data points, each of which is a 7-element tuple containing:\n",
    "        The sentences in the context in vectorized form.\n",
    "        The sentences in the context as a list of string tokens.\n",
    "        The question in vectorized form.\n",
    "        The question as a list of string tokens.\n",
    "        The answer in vectorized form.\n",
    "        The answer as a list of string tokens.\n",
    "        A list of numbers for supporting statements, which is currently unused.\n",
    "    \"\"\"\n",
    "    data = []\n",
    "    context = []\n",
    "    with open(set_file, \"r\", encoding=\"utf8\") as train:\n",
    "        for line in train:\n",
    "            l, ine = tuple(line.split(\" \", 1))\n",
    "            # Split the line numbers from the sentences they refer to.\n",
    "            if l is \"1\":\n",
    "                # New contexts always start with 1, \n",
    "                # so this is a signal to reset the context.\n",
    "                context = []\n",
    "            if \"\\t\" in ine: \n",
    "                # Tabs are the separator between questions and answers,\n",
    "                # and are not present in context statements.\n",
    "                question, answer, support = tuple(ine.split(\"\\t\"))\n",
    "                data.append((tuple(zip(*context))+\n",
    "                             sentence2sequence(question)+\n",
    "                             sentence2sequence(answer)+\n",
    "                             ([int(s) for s in support.split()],)))\n",
    "                # Multiple questions may refer to the same context, so we don't reset it.\n",
    "            else:\n",
    "                # Context sentence.\n",
    "                context.append(sentence2sequence(ine[:-1]))\n",
    "    return data\n",
    "train_data = contextualize(train_set_post_file)\n",
    "test_data = contextualize(test_set_post_file)"
   ]
  },
  {
   "cell_type": "code",
   "execution_count": 9,
   "metadata": {
    "scrolled": true
   },
   "outputs": [],
   "source": [
    "final_train_data = []\n",
    "def finalize(data):\n",
    "    \"\"\"\n",
    "    Prepares data generated by contextualize() for use in the network.\n",
    "    \"\"\"\n",
    "    final_data = []\n",
    "    for cqas in data:\n",
    "        contextvs, contextws, qvs, qws, avs, aws, spt = cqas\n",
    "\n",
    "        lengths = itertools.accumulate(len(cvec) for cvec in contextvs)\n",
    "        context_vec = np.concatenate(contextvs)\n",
    "        context_words = sum(contextws,[])\n",
    "        \n",
    "        # Location markers for the beginnings of new sentences.\n",
    "        sentence_ends = np.array(list(lengths)) \n",
    "        final_data.append((context_vec, sentence_ends, qvs, spt, context_words, cqas, avs, aws))\n",
    "    return np.array(final_data)\n",
    "final_train_data = finalize(train_data)   \n",
    "final_test_data = finalize(test_data)     "
   ]
  },
  {
   "cell_type": "markdown",
   "metadata": {},
   "source": [
    "### Defining hyperparameters\n",
    "\n",
    "At this point, we have fully prepared our training data and our testing data. The next task is to construct the network we'll use to understand the data. Let's start by clearing out the TensorFlow default graph so we always have the option to run the network again if we want to change something. "
   ]
  },
  {
   "cell_type": "code",
   "execution_count": 10,
   "metadata": {},
   "outputs": [],
   "source": [
    "tf.reset_default_graph()"
   ]
  },
  {
   "cell_type": "markdown",
   "metadata": {},
   "source": [
    "Since this is the beginning of the actual network, let's also define all the constants we'll need for the network. We call these \"hyperparameters,\" as they define how the network looks and trains:"
   ]
  },
  {
   "cell_type": "code",
   "execution_count": 11,
   "metadata": {},
   "outputs": [],
   "source": [
    "# Hyperparameters\n",
    "\n",
    "# The number of dimensions used to store data passed between recurrent layers in the network.\n",
    "recurrent_cell_size = 128\n",
    "\n",
    "# The number of dimensions in our word vectorizations.\n",
    "D = 50 \n",
    "\n",
    "# How quickly the network learns. Too high, and we may run into numeric instability \n",
    "# or other issues.\n",
    "learning_rate = 0.005\n",
    "\n",
    "# Dropout probabilities. For a description of dropout and what these probabilities are, \n",
    "# see Entailment with TensorFlow.\n",
    "input_p, output_p = 0.5, 0.5\n",
    "\n",
    "# How many questions we train on at a time.\n",
    "batch_size = 128\n",
    "\n",
    "# Number of passes in episodic memory. We'll get to this later.\n",
    "passes = 4\n",
    "\n",
    "# Feed Forward layer sizes: the number of dimensions used to store data passed from feed-forward layers.\n",
    "ff_hidden_size = 256\n",
    "\n",
    "weight_decay = 0.00000001\n",
    "# The strength of our regularization. Increase to encourage sparsity in episodic memory, \n",
    "# but makes training slower. Don't make this larger than leraning_rate.\n",
    "\n",
    "training_iterations_count = 400000\n",
    "# How many questions the network trains on each time it is trained. \n",
    "# Some questions are counted multiple times.\n",
    "\n",
    "display_step = 100\n",
    "# How many iterations of training occur before each validation check."
   ]
  },
  {
   "cell_type": "markdown",
   "metadata": {},
   "source": [
    "### Network structure\n",
    "\n",
    "With the hyperparameters out of the way, let's describe the network structure. The structure of this network is split loosely into four modules and is described in [Ask Me Anything: Dynamic Memory Networks for Natural Language Processing](https://arxiv.org/abs/1506.07285).\n",
    "\n",
    "The network is designed around having a recurrent layer's memory be set dynamically, based on other information in the text, hence the name dynamic memory network (DMN). DMNs are loosely based on an understanding of how a human tries to answer a reading-comprehension-type question. The person gets a chance, first of all, to read the context and create memories of the facts inside. With those facts in mind, they then read the question, and re-examine the context specifically searching for the answer to that question, comparing the question to each of the facts. \n",
    "\n",
    "Sometimes, one fact guides us to another. In the bAbI data set, the network might want to find the location of a football. It might search for sentences about the football to find that John was the last person to touch the football, then search for sentences about John to find that John had been in both the bedroom and the hallway. Once it realizes that John had been last in the hallway, it can then answer the question and confidently say that the football is in the hallway.\n",
    "\n",
    "<img src=\"model.png\">\n",
    "<center><em>Figure 2.</em> The modules inside the network as they work together to answer a bAbI question. In each episode, new facts are attended to so they can help come up with the answer. Kumar notes that the network incorrectly puts some weight in sentence 2, which makes sense since John has been there, even though at the time he did not have the football. Credit: Ankit Kumar, et al., used with permission.\n",
    "</center>\n",
    "\n",
    "#### Input\n",
    "\n",
    "The input module is the first of the four modules that a dynamic memory network uses to come up with its answer, and consists of a simple pass over the input with a gated recurrent unit, or GRU, (TensorFlow's [tf.contrib.nn.GRUCell](https://www.tensorflow.org/versions/r1.3/api_docs/python/tf/contrib/rnn/GRUCell)) to gather pieces of evidence. Each  piece of evidence, or *fact*, corresponds to a single sentence in the context, and is represented by the output at that timestep. This requires a bit of non-TensorFlow preprocessing so we can gather the locations of the ends of sentences and pass that in to TensorFlow for use in later modules. \n",
    "\n",
    "We'll take care of that external processing later on, when we get to training. We can use that processed data with TensorFlow's `gather_nd` to select the corresponding outputs. The function `gather_nd` is an extraordinarily useful tool, and I'd suggest you review the [API documentation](https://www.tensorflow.org/versions/r1.2/api_docs/python/tf/gather_nd) to learn how it works."
   ]
  },
  {
   "cell_type": "code",
   "execution_count": 12,
   "metadata": {},
   "outputs": [],
   "source": [
    "# Input Module\n",
    "\n",
    "# Context: A [batch_size, maximum_context_length, word_vectorization_dimensions] tensor \n",
    "# that contains all the context information.\n",
    "context = tf.placeholder(tf.float32, [None, None, D], \"context\")  \n",
    "context_placeholder = context # I use context as a variable name later on\n",
    "\n",
    "# input_sentence_endings: A [batch_size, maximum_sentence_count, 2] tensor that \n",
    "# contains the locations of the ends of sentences. \n",
    "input_sentence_endings = tf.placeholder(tf.int32, [None, None, 2], \"sentence\")\n",
    "\n",
    "# recurrent_cell_size: the number of hidden units in recurrent layers.\n",
    "input_gru = tf.contrib.rnn.GRUCell(recurrent_cell_size)\n",
    "\n",
    "# input_p: The probability of maintaining a specific hidden input unit.\n",
    "# Likewise, output_p is the probability of maintaining a specific hidden output unit.\n",
    "gru_drop = tf.contrib.rnn.DropoutWrapper(input_gru, input_p, output_p)\n",
    "\n",
    "# dynamic_rnn also returns the final internal state. We don't need that, and can\n",
    "# ignore the corresponding output (_). \n",
    "input_module_outputs, _ = tf.nn.dynamic_rnn(gru_drop, context, dtype=tf.float32, scope = \"input_module\")\n",
    "\n",
    "# cs: the facts gathered from the context.\n",
    "cs = tf.gather_nd(input_module_outputs, input_sentence_endings)\n",
    "# to use every word as a fact, useful for tasks with one-sentence contexts\n",
    "s = input_module_outputs "
   ]
  },
  {
   "cell_type": "markdown",
   "metadata": {},
   "source": [
    "#### Question\n",
    "\n",
    "The question module is the second module, and arguably the simplest. It consists of another GRU pass, this time over the text of the question. Instead of pieces of evidence, we can simply pass forward the end state, as the question is guaranteed by the data set to be one sentence long. "
   ]
  },
  {
   "cell_type": "code",
   "execution_count": 13,
   "metadata": {},
   "outputs": [],
   "source": [
    "# Question Module\n",
    "\n",
    "# query: A [batch_size, maximum_question_length, word_vectorization_dimensions] tensor \n",
    "#  that contains all of the questions.\n",
    "\n",
    "query = tf.placeholder(tf.float32, [None, None, D], \"query\")\n",
    "\n",
    "# input_query_lengths: A [batch_size, 2] tensor that contains question length information. \n",
    "# input_query_lengths[:,1] has the actual lengths; input_query_lengths[:,0] is a simple range() \n",
    "# so that it plays nice with gather_nd.\n",
    "input_query_lengths = tf.placeholder(tf.int32, [None, 2], \"query_lengths\")\n",
    "\n",
    "question_module_outputs, _ = tf.nn.dynamic_rnn(gru_drop, query, dtype=tf.float32, \n",
    "                                               scope = tf.VariableScope(True, \"input_module\"))\n",
    "\n",
    "# q: the question states. A [batch_size, recurrent_cell_size] tensor.\n",
    "q = tf.gather_nd(question_module_outputs, input_query_lengths)"
   ]
  },
  {
   "cell_type": "markdown",
   "metadata": {},
   "source": [
    "#### Episodic memory\n",
    "Our third module, the episodic memory module, is where things begin to get interesting. It uses attention to do multiple passes, each pass consisting of GRUs iterating over the input. Each iteration inside each pass has a weighted update on current memory, based on how much attention is being paid to the corresponding fact at that time.\n",
    "  \n",
    "##### Attention\n",
    "Attention in neural networks was originally designed for image analysis, especially for cases where parts of the image are far more relevant than others. Networks use attention to determine the best locations in which to do further analysis when performing tasks, such as finding locations of objects in images, tracking objects that move between images, facial recognition, or other tasks that benefit from finding the most pertinent information for the task within the image.\n",
    "\n",
    "The main problem is that attention, or at least hard attention (which attends to exactly one input location) is not easily optimizable. As with most other neural networks, our optimization scheme is to compute the derivative of a loss function with respect to our inputs and weights, and hard attention is simply not differentiable, thanks to its binary nature. Instead, we are forced to use the real-valued version known as “soft attention,” which combines all the input locations that could be attended to using some form of weighting. Thankfully, the weighting is fully differentiable and can be trained normally. While it is possible to learn hard attention, it’s much more difficult and sometimes performs worse than soft attention. Thus, we’ll stick with soft attention for this model. Don't worry about coding the derivative; TensorFlow's optimization schemes do it for us.\n",
    "\n",
    "We calculate attention in this model by constructing similarity measures between each fact, our current memory, and the original question. (Note that this is different from normal attention, which only constructs similarity measures between facts and current memory.) We pass the results through a two-layer feed-forward network to get an attention constant for each fact. We then modify the memory by doing a weighted pass with a GRU over the input facts (weighted by the corresponding attention constant). In order to avoid adding incorrect information into memory when the context is shorter than the full length of the matrix, we create a mask for which facts exist and don't attend at all (i.e., retain the same memory) when the fact does not exist.\n",
    "\n",
    "Another notable aspect is that the attention mask is nearly always wrapped around a representation used by a layer. For images, that wrapping is most likely to happen around a convolutional layer (most likely one with a direct mapping to locations in the image), and for natural language, that wrapping is most likely to happen around a recurrent layer. Wrapping attention around a feed-forward layer, while technically possible, is usually not useful -- at least not in a way that can’t be more easily simulated by further feed-forward layers. \n"
   ]
  },
  {
   "cell_type": "code",
   "execution_count": 14,
   "metadata": {},
   "outputs": [
    {
     "name": "stdout",
     "output_type": "stream",
     "text": [
      "WARNING:tensorflow:From <ipython-input-14-8044b0717f82>:80: calling count_nonzero (from tensorflow.python.ops.math_ops) with keep_dims is deprecated and will be removed in a future version.\n",
      "Instructions for updating:\n",
      "keep_dims is deprecated, use keepdims instead\n"
     ]
    }
   ],
   "source": [
    "# Episodic Memory\n",
    "\n",
    "# make sure the current memory (i.e. the question vector) is broadcasted along the facts dimension\n",
    "size = tf.stack([tf.constant(1),tf.shape(cs)[1], tf.constant(1)])\n",
    "re_q = tf.tile(tf.reshape(q,[-1,1,recurrent_cell_size]),size)\n",
    "\n",
    "\n",
    "# Final output for attention, needs to be 1 in order to create a mask\n",
    "output_size = 1 \n",
    "\n",
    "# Weights and biases\n",
    "attend_init = tf.random_normal_initializer(stddev=0.1)\n",
    "w_1 = tf.get_variable(\"attend_w1\", [1,recurrent_cell_size*7, recurrent_cell_size], \n",
    "                      tf.float32, initializer = attend_init)\n",
    "w_2 = tf.get_variable(\"attend_w2\", [1,recurrent_cell_size, output_size], \n",
    "                      tf.float32, initializer = attend_init)\n",
    "\n",
    "b_1 = tf.get_variable(\"attend_b1\", [1, recurrent_cell_size], \n",
    "                      tf.float32, initializer = attend_init)\n",
    "b_2 = tf.get_variable(\"attend_b2\", [1, output_size], \n",
    "                      tf.float32, initializer = attend_init)\n",
    "\n",
    "# Regulate all the weights and biases\n",
    "tf.add_to_collection(tf.GraphKeys.REGULARIZATION_LOSSES, tf.nn.l2_loss(w_1))\n",
    "tf.add_to_collection(tf.GraphKeys.REGULARIZATION_LOSSES, tf.nn.l2_loss(b_1))\n",
    "tf.add_to_collection(tf.GraphKeys.REGULARIZATION_LOSSES, tf.nn.l2_loss(w_2))\n",
    "tf.add_to_collection(tf.GraphKeys.REGULARIZATION_LOSSES, tf.nn.l2_loss(b_2))\n",
    "\n",
    "def attention(c, mem, existing_facts):\n",
    "    \"\"\"\n",
    "    Custom attention mechanism.\n",
    "    c: A [batch_size, maximum_sentence_count, recurrent_cell_size] tensor \n",
    "        that contains all the facts from the contexts.\n",
    "    mem: A [batch_size, maximum_sentence_count, recurrent_cell_size] tensor that \n",
    "        contains the current memory. It should be the same memory for all facts for accurate results.\n",
    "    existing_facts: A [batch_size, maximum_sentence_count, 1] tensor that \n",
    "        acts as a binary mask for which facts exist and which do not.\n",
    "    \n",
    "    \"\"\"\n",
    "    with tf.variable_scope(\"attending\") as scope:\n",
    "        # attending: The metrics by which we decide what to attend to.\n",
    "        attending = tf.concat([c, mem, re_q, c * re_q,  c * mem, (c-re_q)**2, (c-mem)**2], 2)\n",
    "        \n",
    "        # m1: First layer of multiplied weights for the feed-forward network. \n",
    "        #     We tile the weights in order to manually broadcast, since tf.matmul does not\n",
    "        #     automatically broadcast batch matrix multiplication as of TensorFlow 1.2.\n",
    "        m1 = tf.matmul(attending * existing_facts, \n",
    "                       tf.tile(w_1, tf.stack([tf.shape(attending)[0],1,1]))) * existing_facts\n",
    "        # bias_1: A masked version of the first feed-forward layer's bias\n",
    "        #     over only existing facts.\n",
    "\n",
    "        bias_1 = b_1 * existing_facts\n",
    "        \n",
    "        # tnhan: First nonlinearity. In the original paper, this is a tanh nonlinearity; \n",
    "        #        choosing relu was a design choice intended to avoid issues with \n",
    "        #        low gradient magnitude when the tanh returned values close to 1 or -1. \n",
    "        tnhan = tf.nn.relu(m1 + bias_1)\n",
    "        \n",
    "        # m2: Second layer of multiplied weights for the feed-forward network. \n",
    "        #     Still tiling weights for the same reason described in m1's comments.\n",
    "        m2 = tf.matmul(tnhan, tf.tile(w_2, tf.stack([tf.shape(attending)[0],1,1])))\n",
    "        \n",
    "        # bias_2: A masked version of the second feed-forward layer's bias.\n",
    "        bias_2 = b_2 * existing_facts\n",
    "        \n",
    "        # norm_m2: A normalized version of the second layer of weights, which is used \n",
    "        #     to help make sure the softmax nonlinearity doesn't saturate.\n",
    "        norm_m2 = tf.nn.l2_normalize(m2 + bias_2, -1)\n",
    "        \n",
    "        # softmaxable: A hack in order to use sparse_softmax on an otherwise dense tensor. \n",
    "        #     We make norm_m2 a sparse tensor, then make it dense again after the operation.\n",
    "        softmax_idx = tf.where(tf.not_equal(norm_m2, 0))[:,:-1]\n",
    "        softmax_gather = tf.gather_nd(norm_m2[...,0], softmax_idx)\n",
    "        softmax_shape = tf.shape(norm_m2, out_type=tf.int64)[:-1]\n",
    "        softmaxable = tf.SparseTensor(softmax_idx, softmax_gather, softmax_shape)\n",
    "        return tf.expand_dims(tf.sparse_tensor_to_dense(tf.sparse_softmax(softmaxable)),-1)\n",
    "\n",
    "# facts_0s: a [batch_size, max_facts_length, 1] tensor \n",
    "#     whose values are 1 if the corresponding fact exists and 0 if not.\n",
    "facts_0s = tf.cast(tf.count_nonzero(input_sentence_endings[:,:,-1:],-1,keep_dims=True),tf.float32)\n",
    "\n",
    "\n",
    "with tf.variable_scope(\"Episodes\") as scope:\n",
    "    attention_gru = tf.contrib.rnn.GRUCell(recurrent_cell_size)\n",
    "    \n",
    "    # memory: A list of all tensors that are the (current or past) memory state \n",
    "    #   of the attention mechanism.\n",
    "    memory = [q]\n",
    "    \n",
    "    # attends: A list of all tensors that represent what the network attends to.\n",
    "    attends = []\n",
    "    for a in range(passes):\n",
    "        # attention mask\n",
    "        attend_to = attention(cs, tf.tile(tf.reshape(memory[-1],[-1,1,recurrent_cell_size]),size),\n",
    "                              facts_0s)\n",
    "        \n",
    "        # Inverse attention mask, for what's retained in the state.\n",
    "        retain = 1-attend_to\n",
    "        \n",
    "        # GRU pass over the facts, according to the attention mask.\n",
    "        while_valid_index = (lambda state, index: index < tf.shape(cs)[1])\n",
    "        update_state = (lambda state, index: (attend_to[:,index,:] * \n",
    "                                                 attention_gru(cs[:,index,:], state)[0] + \n",
    "                                                 retain[:,index,:] * state))\n",
    "        # start loop with most recent memory and at the first index\n",
    "        memory.append(tuple(tf.while_loop(while_valid_index,\n",
    "                          (lambda state, index: (update_state(state,index),index+1)),\n",
    "                           loop_vars = [memory[-1], 0]))[0]) \n",
    "        \n",
    "        attends.append(attend_to)\n",
    "        \n",
    "        # Reuse variables so the GRU pass uses the same variables every pass.\n",
    "        scope.reuse_variables()"
   ]
  },
  {
   "cell_type": "markdown",
   "metadata": {},
   "source": [
    "#### Answer\n",
    "The final module is the answer module, which regresses from the question and episodic memory modules' outputs using a fully connected layer to a \"final result\" word vector, and the word in the context that is closest in distance to that result is our final output (to guarantee the result is an actual word). We calculate the closest word by creating a \"score\" for each word, which indicates the final result's distance from the word. While you can design an answer module that can return multiple words, it is not needed for the bAbI tasks we attempt in this article."
   ]
  },
  {
   "cell_type": "code",
   "execution_count": 15,
   "metadata": {},
   "outputs": [],
   "source": [
    "# Answer Module\n",
    "\n",
    "# a0: Final memory state. (Input to answer module)\n",
    "a0 = tf.concat([memory[-1], q], -1)\n",
    "\n",
    "# fc_init: Initializer for the final fully connected layer's weights.\n",
    "fc_init = tf.random_normal_initializer(stddev=0.1) \n",
    "\n",
    "with tf.variable_scope(\"answer\"):\n",
    "    # w_answer: The final fully connected layer's weights.\n",
    "    w_answer = tf.get_variable(\"weight\", [recurrent_cell_size*2, D], \n",
    "                               tf.float32, initializer = fc_init)\n",
    "    # Regulate the fully connected layer's weights\n",
    "    tf.add_to_collection(tf.GraphKeys.REGULARIZATION_LOSSES, \n",
    "                     tf.nn.l2_loss(w_answer)) \n",
    "    \n",
    "    # The regressed word. This isn't an actual word yet; \n",
    "    #    we still have to find the closest match.\n",
    "    logit = tf.expand_dims(tf.matmul(a0, w_answer),1)\n",
    "    \n",
    "    # Make a mask over which words exist.\n",
    "    with tf.variable_scope(\"ending\"):\n",
    "        all_ends = tf.reshape(input_sentence_endings, [-1,2])\n",
    "        range_ends = tf.range(tf.shape(all_ends)[0])\n",
    "        ends_indices = tf.stack([all_ends[:,0],range_ends], axis=1)\n",
    "        ind = tf.reduce_max(tf.scatter_nd(ends_indices, all_ends[:,1],\n",
    "                                          [tf.shape(q)[0], tf.shape(all_ends)[0]]),\n",
    "                            axis=-1)\n",
    "        range_ind = tf.range(tf.shape(ind)[0])\n",
    "        mask_ends = tf.cast(tf.scatter_nd(tf.stack([ind, range_ind], axis=1), \n",
    "                                          tf.ones_like(range_ind), [tf.reduce_max(ind)+1, \n",
    "                                                                    tf.shape(ind)[0]]), bool)\n",
    "        # A bit of a trick. With the locations of the ends of the mask (the last periods in \n",
    "        #  each of the contexts) as 1 and the rest as 0, we can scan with exclusive or \n",
    "        #  (starting from all 1). For each context in the batch, this will result in 1s \n",
    "        #  up until the marker (the location of that last period) and 0s afterwards.\n",
    "        mask = tf.scan(tf.logical_xor,mask_ends, tf.ones_like(range_ind, dtype=bool))\n",
    "        \n",
    "    # We score each possible word inversely with their Euclidean distance to the regressed word.\n",
    "    #  The highest score (lowest distance) will correspond to the selected word.\n",
    "    logits = -tf.reduce_sum(tf.square(context*tf.transpose(tf.expand_dims(\n",
    "                    tf.cast(mask, tf.float32),-1),[1,0,2]) - logit), axis=-1)"
   ]
  },
  {
   "cell_type": "markdown",
   "metadata": {},
   "source": [
    "### Optimizing optimization\n",
    "\n",
    "Gradient descent is the default optimizer for a neural network. Its goal is to decrease the network's \"loss,\" which is a measure of how poorly the network performs. It does this by finding the derivative of loss with respect to each of the weights under the current input, and then \"descends\" the weights so they’ll reduce the loss. Most of the time, this works well enough, but often it’s not ideal. There are various schemes that use “momentum” or other approximations of the more direct path to the optimal weights. One of the most useful of these optimization schemes is known as adaptive moment estimation, or *Adam*. \n",
    "\n",
    "Adam estimates the first two moments of the gradient by calculating an exponentially decaying average of past iterations' gradients and squared gradients, which correspond to the estimated mean and the estimated variance of these gradients. The calculations use two additional hyperparameters  to indicate how quickly the averages decay with the addition of new information. The averages are initialized as zero, which leads to bias toward zero, especially when those hyperparameters near one.\n",
    "\n",
    "In order to counteract that bias, Adam computes bias-corrected moment estimates that are greater in magnitude than the originals. The corrected estimates are then used to update the weights throughout the network. The combination of these estimates make Adam one of the best choices overall for optimization, especially for complex networks. This applies doubly to data that is very sparse, such as is common in natural language processing tasks.\n",
    "\n",
    "In TensorFlow, we can use Adam by creating a `tf.train.AdamOptimizer`."
   ]
  },
  {
   "cell_type": "code",
   "execution_count": 16,
   "metadata": {},
   "outputs": [
    {
     "name": "stdout",
     "output_type": "stream",
     "text": [
      "WARNING:tensorflow:From <ipython-input-16-ffcb6f160c6c>:8: calling reduce_max (from tensorflow.python.ops.math_ops) with keep_dims is deprecated and will be removed in a future version.\n",
      "Instructions for updating:\n",
      "keep_dims is deprecated, use keepdims instead\n"
     ]
    }
   ],
   "source": [
    "# Training\n",
    "\n",
    "# gold_standard: The real answers.\n",
    "gold_standard = tf.placeholder(tf.float32, [None, 1, D], \"answer\")\n",
    "with tf.variable_scope('accuracy'):\n",
    "    eq = tf.equal(context, gold_standard)\n",
    "    corrbool = tf.reduce_all(eq,-1)\n",
    "    logloc = tf.reduce_max(logits, -1, keep_dims = True)\n",
    "    # locs: A boolean tensor that indicates where the score \n",
    "    #  matches the minimum score. This happens on multiple dimensions, \n",
    "    #  so in the off chance there's one or two indexes that match \n",
    "    #  we make sure it matches in all indexes.\n",
    "    locs = tf.equal(logits, logloc)\n",
    "    \n",
    "    # correctsbool: A boolean tensor that indicates for which \n",
    "    #   words in the context the score always matches the minimum score.\n",
    "    correctsbool = tf.reduce_any(tf.logical_and(locs, corrbool), -1)\n",
    "    # corrects: A tensor that is simply correctsbool cast to floats.\n",
    "    corrects = tf.where(correctsbool, tf.ones_like(correctsbool, dtype=tf.float32), \n",
    "                        tf.zeros_like(correctsbool,dtype=tf.float32))\n",
    "    \n",
    "    # corr: corrects, but for the right answer instead of our selected answer.\n",
    "    corr = tf.where(corrbool, tf.ones_like(corrbool, dtype=tf.float32), \n",
    "                        tf.zeros_like(corrbool,dtype=tf.float32))\n",
    "with tf.variable_scope(\"loss\"):\n",
    "    # Use sigmoid cross entropy as the base loss, \n",
    "    #  with our distances as the relative probabilities. There are\n",
    "    #  multiple correct labels, for each location of the answer word within the context.\n",
    "    loss = tf.nn.sigmoid_cross_entropy_with_logits(logits = tf.nn.l2_normalize(logits,-1),\n",
    "                                                   labels = corr)\n",
    "    \n",
    "    # Add regularization losses, weighted by weight_decay.\n",
    "    total_loss = tf.reduce_mean(loss) + weight_decay * tf.add_n(\n",
    "        tf.get_collection(tf.GraphKeys.REGULARIZATION_LOSSES))\n",
    "\n",
    "# TensorFlow's default implementation of the Adam optimizer works. We can adjust more than \n",
    "#  just the learning rate, but it's not necessary to find a very good optimum.\n",
    "optimizer = tf.train.AdamOptimizer(learning_rate)\n",
    "\n",
    "# Once we have an optimizer, we ask it to minimize the loss \n",
    "#   in order to work towards the proper training.\n",
    "opt_op = optimizer.minimize(total_loss)"
   ]
  },
  {
   "cell_type": "code",
   "execution_count": 17,
   "metadata": {},
   "outputs": [],
   "source": [
    "# Initialize variables\n",
    "init = tf.global_variables_initializer()\n",
    "\n",
    "# Launch the TensorFlow session\n",
    "sess = tf.Session()\n",
    "sess.run(init)"
   ]
  },
  {
   "cell_type": "markdown",
   "metadata": {},
   "source": [
    "### Train the network\n",
    "\n",
    "With everything set and ready, we can begin batching our training data to train our network! While the system is training, we should check on how well the network is doing in terms of accuracy. We do this with a validation set, which is taken from testing data so it has no overlap with the training data. \n",
    "\n",
    "Using a validation set based on testing data allows us to get a better sense of how well the network can generalize what it learns and apply it to other contexts. If we validate on the training data, the network may overfit -- in other words, learn specific examples and memorize the answers to them, which doesn't help the network answer new questions.\n",
    "\n",
    "If you installed TQDM, you can use it to keep track of how long the network has been training and receive an estimate of when training will finish. You can stop the training at any time if you feel the results are good enough by interrupting the Jupyter Notebook kernel."
   ]
  },
  {
   "cell_type": "code",
   "execution_count": 18,
   "metadata": {},
   "outputs": [],
   "source": [
    "def prep_batch(batch_data, more_data = False):\n",
    "    \"\"\"\n",
    "        Prepare all the preproccessing that needs to be done on a batch-by-batch basis.\n",
    "    \"\"\"\n",
    "    context_vec, sentence_ends, questionvs, spt, context_words, cqas, answervs, _ = zip(*batch_data)\n",
    "    ends = list(sentence_ends)\n",
    "    maxend = max(map(len, ends))\n",
    "    aends = np.zeros((len(ends), maxend))\n",
    "    for index, i in enumerate(ends):\n",
    "        for indexj, x in enumerate(i):\n",
    "            aends[index, indexj] = x-1\n",
    "    new_ends = np.zeros(aends.shape+(2,))\n",
    "\n",
    "    for index, x in np.ndenumerate(aends):\n",
    "        new_ends[index+(0,)] = index[0]\n",
    "        new_ends[index+(1,)] = x\n",
    "\n",
    "    contexts = list(context_vec)\n",
    "    max_context_length = max([len(x) for x in contexts])\n",
    "    contextsize = list(np.array(contexts[0]).shape)\n",
    "    contextsize[0] = max_context_length\n",
    "    final_contexts = np.zeros([len(contexts)]+contextsize)\n",
    "\n",
    "    contexts = [np.array(x) for x in contexts]\n",
    "    for i, context in enumerate(contexts):\n",
    "        final_contexts[i,0:len(context),:] = context\n",
    "    max_query_length = max(len(x) for x in questionvs)\n",
    "    querysize = list(np.array(questionvs[0]).shape)\n",
    "    querysize[:1] = [len(questionvs),max_query_length]\n",
    "    queries = np.zeros(querysize)\n",
    "    querylengths = np.array(list(zip(range(len(questionvs)),[len(q)-1 for q in questionvs])))\n",
    "    questions = [np.array(q) for q in questionvs]\n",
    "    for i, question in enumerate(questions):\n",
    "        queries[i,0:len(question),:] = question\n",
    "    data = {context_placeholder: final_contexts, input_sentence_endings: new_ends, \n",
    "                            query:queries, input_query_lengths:querylengths, gold_standard: answervs}\n",
    "    return (data, context_words, cqas) if more_data else data"
   ]
  },
  {
   "cell_type": "code",
   "execution_count": 19,
   "metadata": {
    "scrolled": false
   },
   "outputs": [
    {
     "name": "stderr",
     "output_type": "stream",
     "text": [
      "  0%|          | 1/235 [00:23<1:32:06, 23.62s/it]"
     ]
    },
    {
     "name": "stdout",
     "output_type": "stream",
     "text": [
      "Iter 0.0, Minibatch Loss=  0.6731612 Accuracy=  0.0\n"
     ]
    },
    {
     "name": "stderr",
     "output_type": "stream",
     "text": [
      " 43%|████▎     | 101/235 [06:02<08:00,  3.59s/it]"
     ]
    },
    {
     "name": "stdout",
     "output_type": "stream",
     "text": [
      "Iter 100.0, Minibatch Loss=  0.6727519 Accuracy=  0.18828125\n"
     ]
    },
    {
     "name": "stderr",
     "output_type": "stream",
     "text": [
      " 74%|███████▍  | 174/235 [10:16<03:36,  3.54s/it]"
     ]
    },
    {
     "ename": "KeyboardInterrupt",
     "evalue": "",
     "output_type": "error",
     "traceback": [
      "\u001b[0;31m---------------------------------------------------------------------------\u001b[0m",
      "\u001b[0;31mKeyboardInterrupt\u001b[0m                         Traceback (most recent call last)",
      "\u001b[0;32m<ipython-input-19-c551ac1801f5>\u001b[0m in \u001b[0;36m<module>\u001b[0;34m()\u001b[0m\n\u001b[1;32m     38\u001b[0m             print(\"Iter \" + str(j/batch_size) + \", Minibatch Loss= \",tmp_loss,\n\u001b[1;32m     39\u001b[0m                   \"Accuracy= \", np.mean(acc))\n\u001b[0;32m---> 40\u001b[0;31m \u001b[0mtrain\u001b[0m\u001b[0;34m(\u001b[0m\u001b[0;36m30000\u001b[0m\u001b[0;34m,\u001b[0m\u001b[0mbatch_size\u001b[0m\u001b[0;34m)\u001b[0m \u001b[0;31m# Small amount of training for preliminary results\u001b[0m\u001b[0;34m\u001b[0m\u001b[0m\n\u001b[0m",
      "\u001b[0;32m<ipython-input-19-c551ac1801f5>\u001b[0m in \u001b[0;36mtrain\u001b[0;34m(iterations, batch_size)\u001b[0m\n\u001b[1;32m     28\u001b[0m         \u001b[0mbatch_data\u001b[0m \u001b[0;34m=\u001b[0m \u001b[0mfinal_train_data\u001b[0m\u001b[0;34m[\u001b[0m\u001b[0mbatch\u001b[0m\u001b[0;34m]\u001b[0m\u001b[0;34m\u001b[0m\u001b[0m\n\u001b[1;32m     29\u001b[0m \u001b[0;34m\u001b[0m\u001b[0m\n\u001b[0;32m---> 30\u001b[0;31m         \u001b[0msess\u001b[0m\u001b[0;34m.\u001b[0m\u001b[0mrun\u001b[0m\u001b[0;34m(\u001b[0m\u001b[0;34m[\u001b[0m\u001b[0mopt_op\u001b[0m\u001b[0;34m]\u001b[0m\u001b[0;34m,\u001b[0m \u001b[0mfeed_dict\u001b[0m\u001b[0;34m=\u001b[0m\u001b[0mprep_batch\u001b[0m\u001b[0;34m(\u001b[0m\u001b[0mbatch_data\u001b[0m\u001b[0;34m)\u001b[0m\u001b[0;34m)\u001b[0m\u001b[0;34m\u001b[0m\u001b[0m\n\u001b[0m\u001b[1;32m     31\u001b[0m         \u001b[0;32mif\u001b[0m \u001b[0;34m(\u001b[0m\u001b[0mj\u001b[0m\u001b[0;34m/\u001b[0m\u001b[0mbatch_size\u001b[0m\u001b[0;34m)\u001b[0m \u001b[0;34m%\u001b[0m \u001b[0mdisplay_step\u001b[0m \u001b[0;34m==\u001b[0m \u001b[0;36m0\u001b[0m\u001b[0;34m:\u001b[0m\u001b[0;34m\u001b[0m\u001b[0m\n\u001b[1;32m     32\u001b[0m \u001b[0;34m\u001b[0m\u001b[0m\n",
      "\u001b[0;32m/Library/Frameworks/Python.framework/Versions/3.6/lib/python3.6/site-packages/tensorflow/python/client/session.py\u001b[0m in \u001b[0;36mrun\u001b[0;34m(self, fetches, feed_dict, options, run_metadata)\u001b[0m\n\u001b[1;32m    898\u001b[0m     \u001b[0;32mtry\u001b[0m\u001b[0;34m:\u001b[0m\u001b[0;34m\u001b[0m\u001b[0m\n\u001b[1;32m    899\u001b[0m       result = self._run(None, fetches, feed_dict, options_ptr,\n\u001b[0;32m--> 900\u001b[0;31m                          run_metadata_ptr)\n\u001b[0m\u001b[1;32m    901\u001b[0m       \u001b[0;32mif\u001b[0m \u001b[0mrun_metadata\u001b[0m\u001b[0;34m:\u001b[0m\u001b[0;34m\u001b[0m\u001b[0m\n\u001b[1;32m    902\u001b[0m         \u001b[0mproto_data\u001b[0m \u001b[0;34m=\u001b[0m \u001b[0mtf_session\u001b[0m\u001b[0;34m.\u001b[0m\u001b[0mTF_GetBuffer\u001b[0m\u001b[0;34m(\u001b[0m\u001b[0mrun_metadata_ptr\u001b[0m\u001b[0;34m)\u001b[0m\u001b[0;34m\u001b[0m\u001b[0m\n",
      "\u001b[0;32m/Library/Frameworks/Python.framework/Versions/3.6/lib/python3.6/site-packages/tensorflow/python/client/session.py\u001b[0m in \u001b[0;36m_run\u001b[0;34m(self, handle, fetches, feed_dict, options, run_metadata)\u001b[0m\n\u001b[1;32m   1133\u001b[0m     \u001b[0;32mif\u001b[0m \u001b[0mfinal_fetches\u001b[0m \u001b[0;32mor\u001b[0m \u001b[0mfinal_targets\u001b[0m \u001b[0;32mor\u001b[0m \u001b[0;34m(\u001b[0m\u001b[0mhandle\u001b[0m \u001b[0;32mand\u001b[0m \u001b[0mfeed_dict_tensor\u001b[0m\u001b[0;34m)\u001b[0m\u001b[0;34m:\u001b[0m\u001b[0;34m\u001b[0m\u001b[0m\n\u001b[1;32m   1134\u001b[0m       results = self._do_run(handle, final_targets, final_fetches,\n\u001b[0;32m-> 1135\u001b[0;31m                              feed_dict_tensor, options, run_metadata)\n\u001b[0m\u001b[1;32m   1136\u001b[0m     \u001b[0;32melse\u001b[0m\u001b[0;34m:\u001b[0m\u001b[0;34m\u001b[0m\u001b[0m\n\u001b[1;32m   1137\u001b[0m       \u001b[0mresults\u001b[0m \u001b[0;34m=\u001b[0m \u001b[0;34m[\u001b[0m\u001b[0;34m]\u001b[0m\u001b[0;34m\u001b[0m\u001b[0m\n",
      "\u001b[0;32m/Library/Frameworks/Python.framework/Versions/3.6/lib/python3.6/site-packages/tensorflow/python/client/session.py\u001b[0m in \u001b[0;36m_do_run\u001b[0;34m(self, handle, target_list, fetch_list, feed_dict, options, run_metadata)\u001b[0m\n\u001b[1;32m   1314\u001b[0m     \u001b[0;32mif\u001b[0m \u001b[0mhandle\u001b[0m \u001b[0;32mis\u001b[0m \u001b[0;32mNone\u001b[0m\u001b[0;34m:\u001b[0m\u001b[0;34m\u001b[0m\u001b[0m\n\u001b[1;32m   1315\u001b[0m       return self._do_call(_run_fn, feeds, fetches, targets, options,\n\u001b[0;32m-> 1316\u001b[0;31m                            run_metadata)\n\u001b[0m\u001b[1;32m   1317\u001b[0m     \u001b[0;32melse\u001b[0m\u001b[0;34m:\u001b[0m\u001b[0;34m\u001b[0m\u001b[0m\n\u001b[1;32m   1318\u001b[0m       \u001b[0;32mreturn\u001b[0m \u001b[0mself\u001b[0m\u001b[0;34m.\u001b[0m\u001b[0m_do_call\u001b[0m\u001b[0;34m(\u001b[0m\u001b[0m_prun_fn\u001b[0m\u001b[0;34m,\u001b[0m \u001b[0mhandle\u001b[0m\u001b[0;34m,\u001b[0m \u001b[0mfeeds\u001b[0m\u001b[0;34m,\u001b[0m \u001b[0mfetches\u001b[0m\u001b[0;34m)\u001b[0m\u001b[0;34m\u001b[0m\u001b[0m\n",
      "\u001b[0;32m/Library/Frameworks/Python.framework/Versions/3.6/lib/python3.6/site-packages/tensorflow/python/client/session.py\u001b[0m in \u001b[0;36m_do_call\u001b[0;34m(self, fn, *args)\u001b[0m\n\u001b[1;32m   1320\u001b[0m   \u001b[0;32mdef\u001b[0m \u001b[0m_do_call\u001b[0m\u001b[0;34m(\u001b[0m\u001b[0mself\u001b[0m\u001b[0;34m,\u001b[0m \u001b[0mfn\u001b[0m\u001b[0;34m,\u001b[0m \u001b[0;34m*\u001b[0m\u001b[0margs\u001b[0m\u001b[0;34m)\u001b[0m\u001b[0;34m:\u001b[0m\u001b[0;34m\u001b[0m\u001b[0m\n\u001b[1;32m   1321\u001b[0m     \u001b[0;32mtry\u001b[0m\u001b[0;34m:\u001b[0m\u001b[0;34m\u001b[0m\u001b[0m\n\u001b[0;32m-> 1322\u001b[0;31m       \u001b[0;32mreturn\u001b[0m \u001b[0mfn\u001b[0m\u001b[0;34m(\u001b[0m\u001b[0;34m*\u001b[0m\u001b[0margs\u001b[0m\u001b[0;34m)\u001b[0m\u001b[0;34m\u001b[0m\u001b[0m\n\u001b[0m\u001b[1;32m   1323\u001b[0m     \u001b[0;32mexcept\u001b[0m \u001b[0merrors\u001b[0m\u001b[0;34m.\u001b[0m\u001b[0mOpError\u001b[0m \u001b[0;32mas\u001b[0m \u001b[0me\u001b[0m\u001b[0;34m:\u001b[0m\u001b[0;34m\u001b[0m\u001b[0m\n\u001b[1;32m   1324\u001b[0m       \u001b[0mmessage\u001b[0m \u001b[0;34m=\u001b[0m \u001b[0mcompat\u001b[0m\u001b[0;34m.\u001b[0m\u001b[0mas_text\u001b[0m\u001b[0;34m(\u001b[0m\u001b[0me\u001b[0m\u001b[0;34m.\u001b[0m\u001b[0mmessage\u001b[0m\u001b[0;34m)\u001b[0m\u001b[0;34m\u001b[0m\u001b[0m\n",
      "\u001b[0;32m/Library/Frameworks/Python.framework/Versions/3.6/lib/python3.6/site-packages/tensorflow/python/client/session.py\u001b[0m in \u001b[0;36m_run_fn\u001b[0;34m(feed_dict, fetch_list, target_list, options, run_metadata)\u001b[0m\n\u001b[1;32m   1305\u001b[0m       \u001b[0mself\u001b[0m\u001b[0;34m.\u001b[0m\u001b[0m_extend_graph\u001b[0m\u001b[0;34m(\u001b[0m\u001b[0;34m)\u001b[0m\u001b[0;34m\u001b[0m\u001b[0m\n\u001b[1;32m   1306\u001b[0m       return self._call_tf_sessionrun(\n\u001b[0;32m-> 1307\u001b[0;31m           options, feed_dict, fetch_list, target_list, run_metadata)\n\u001b[0m\u001b[1;32m   1308\u001b[0m \u001b[0;34m\u001b[0m\u001b[0m\n\u001b[1;32m   1309\u001b[0m     \u001b[0;32mdef\u001b[0m \u001b[0m_prun_fn\u001b[0m\u001b[0;34m(\u001b[0m\u001b[0mhandle\u001b[0m\u001b[0;34m,\u001b[0m \u001b[0mfeed_dict\u001b[0m\u001b[0;34m,\u001b[0m \u001b[0mfetch_list\u001b[0m\u001b[0;34m)\u001b[0m\u001b[0;34m:\u001b[0m\u001b[0;34m\u001b[0m\u001b[0m\n",
      "\u001b[0;32m/Library/Frameworks/Python.framework/Versions/3.6/lib/python3.6/site-packages/tensorflow/python/client/session.py\u001b[0m in \u001b[0;36m_call_tf_sessionrun\u001b[0;34m(self, options, feed_dict, fetch_list, target_list, run_metadata)\u001b[0m\n\u001b[1;32m   1407\u001b[0m       return tf_session.TF_SessionRun_wrapper(\n\u001b[1;32m   1408\u001b[0m           \u001b[0mself\u001b[0m\u001b[0;34m.\u001b[0m\u001b[0m_session\u001b[0m\u001b[0;34m,\u001b[0m \u001b[0moptions\u001b[0m\u001b[0;34m,\u001b[0m \u001b[0mfeed_dict\u001b[0m\u001b[0;34m,\u001b[0m \u001b[0mfetch_list\u001b[0m\u001b[0;34m,\u001b[0m \u001b[0mtarget_list\u001b[0m\u001b[0;34m,\u001b[0m\u001b[0;34m\u001b[0m\u001b[0m\n\u001b[0;32m-> 1409\u001b[0;31m           run_metadata)\n\u001b[0m\u001b[1;32m   1410\u001b[0m     \u001b[0;32melse\u001b[0m\u001b[0;34m:\u001b[0m\u001b[0;34m\u001b[0m\u001b[0m\n\u001b[1;32m   1411\u001b[0m       \u001b[0;32mwith\u001b[0m \u001b[0merrors\u001b[0m\u001b[0;34m.\u001b[0m\u001b[0mraise_exception_on_not_ok_status\u001b[0m\u001b[0;34m(\u001b[0m\u001b[0;34m)\u001b[0m \u001b[0;32mas\u001b[0m \u001b[0mstatus\u001b[0m\u001b[0;34m:\u001b[0m\u001b[0;34m\u001b[0m\u001b[0m\n",
      "\u001b[0;31mKeyboardInterrupt\u001b[0m: "
     ]
    }
   ],
   "source": [
    "# Use TQDM if installed\n",
    "tqdm_installed = False\n",
    "try:\n",
    "    from tqdm import tqdm\n",
    "    tqdm_installed = True\n",
    "except:\n",
    "    pass\n",
    "\n",
    "\n",
    "# Prepare validation set\n",
    "batch = np.random.randint(final_test_data.shape[0], size=batch_size*10)\n",
    "batch_data = final_test_data[batch]\n",
    "\n",
    "validation_set, val_context_words, val_cqas = prep_batch(batch_data, True)\n",
    "\n",
    "# training_iterations_count: The number of data pieces to train on in total\n",
    "# batch_size: The number of data pieces per batch\n",
    "def train(iterations, batch_size):\n",
    "    training_iterations = range(0,iterations,batch_size)\n",
    "    if tqdm_installed:\n",
    "        # Add a progress bar if TQDM is installed\n",
    "        training_iterations = tqdm(training_iterations)\n",
    "\n",
    "    wordz = []\n",
    "    for j in training_iterations:\n",
    "\n",
    "        batch = np.random.randint(final_train_data.shape[0], size=batch_size)\n",
    "        batch_data = final_train_data[batch]\n",
    "\n",
    "        sess.run([opt_op], feed_dict=prep_batch(batch_data))\n",
    "        if (j/batch_size) % display_step == 0:\n",
    "\n",
    "            # Calculate batch accuracy\n",
    "            acc, ccs, tmp_loss, log, con, cor, loc  = sess.run([corrects, cs, total_loss, logit,\n",
    "                                                                context_placeholder,corr, locs], \n",
    "                                                               feed_dict=validation_set)\n",
    "            # Display results\n",
    "            print(\"Iter \" + str(j/batch_size) + \", Minibatch Loss= \",tmp_loss,\n",
    "                  \"Accuracy= \", np.mean(acc))\n",
    "train(30000,batch_size) # Small amount of training for preliminary results"
   ]
  },
  {
   "cell_type": "markdown",
   "metadata": {},
   "source": [
    "After a little bit of training, let's peek inside and see what kinds of answers we're getting from the network.  In the diagrams below, we visualize attention over each of the episodes (rows) for all the sentences (columns) in our context; darker colors represent more attention paid to that sentence on that episode.\n",
    "\n",
    "You should see attention change between at least two episodes for each question, but sometimes attention will be able to find the answer within one, and sometimes it will take all four episodes. If the attention appears to be blank, it may be saturating and paying attention to everything at once. In that case, you can try training with a higher `weight_decay` in order to discourage that from happening. Later on in training, saturation becomes extremely common."
   ]
  },
  {
   "cell_type": "code",
   "execution_count": null,
   "metadata": {},
   "outputs": [],
   "source": [
    "ancr = sess.run([corrbool,locs, total_loss, logits, facts_0s, w_1]+attends+\n",
    "                [query, cs, question_module_outputs],feed_dict=validation_set)\n",
    "a = ancr[0]\n",
    "n = ancr[1]\n",
    "cr = ancr[2]\n",
    "attenders = np.array(ancr[6:-3]) \n",
    "faq = np.sum(ancr[4], axis=(-1,-2)) # Number of facts in each context\n",
    "\n",
    "limit = 5\n",
    "for question in range(min(limit, batch_size)):\n",
    "    plt.yticks(range(passes,0,-1))\n",
    "    plt.ylabel(\"Episode\")\n",
    "    plt.xlabel(\"Question \"+str(question+1))\n",
    "    pltdata = attenders[:,question,:int(faq[question]),0] \n",
    "    # Display only information about facts that actually exist, all others are 0\n",
    "    pltdata = (pltdata - pltdata.mean()) / ((pltdata.max() - pltdata.min() + 0.001)) * 256\n",
    "    plt.pcolor(pltdata, cmap=plt.cm.BuGn, alpha=0.7)\n",
    "    plt.show()\n",
    "\n",
    "#print(list(map((lambda x: x.shape),ancr[3:])), new_ends.shape)"
   ]
  },
  {
   "cell_type": "markdown",
   "metadata": {},
   "source": [
    "In order to see what the answers for the above questions were, we can use the location of our distance score in the context as an index and see what word is at that index."
   ]
  },
  {
   "cell_type": "code",
   "execution_count": 21,
   "metadata": {},
   "outputs": [
    {
     "name": "stdout",
     "output_type": "stream",
     "text": [
      "TEXT:  mary travelled to the bedroom . mary journeyed to the bathroom . mary got the football there . mary passed the football to fred .\n",
      "QUESTION:  who received the football ?\n",
      "RESPONSE:  mary Incorrect\n",
      "EXPECTED:  fred\n",
      "\n",
      "TEXT:  bill grabbed the apple there . bill got the football there . jeff journeyed to the bathroom . bill handed the apple to jeff . jeff handed the apple to bill . bill handed the apple to jeff . jeff handed the apple to bill . bill handed the apple to jeff .\n",
      "QUESTION:  what did bill give to jeff ?\n",
      "RESPONSE:  apple Correct\n",
      "EXPECTED:  apple\n",
      "\n",
      "TEXT:  bill moved to the bathroom . mary went to the garden . mary picked up the apple there . bill moved to the kitchen . mary left the apple there . jeff got the football there . jeff went back to the kitchen . jeff gave the football to fred .\n",
      "QUESTION:  what did jeff give to fred ?\n",
      "RESPONSE:  apple Incorrect\n",
      "EXPECTED:  football\n",
      "\n",
      "TEXT:  jeff travelled to the bathroom . bill journeyed to the bedroom . jeff journeyed to the hallway . bill took the milk there . bill discarded the milk . mary moved to the bedroom . jeff went back to the bedroom . fred got the football there . bill grabbed the milk there . bill passed the milk to mary . mary gave the milk to bill . bill discarded the milk there . bill went to the kitchen . bill got the apple there .\n",
      "QUESTION:  who gave the milk to bill ?\n",
      "RESPONSE:  jeff Incorrect\n",
      "EXPECTED:  mary\n",
      "\n",
      "TEXT:  fred travelled to the bathroom . jeff went to the bathroom . mary went back to the bathroom . fred went back to the bedroom . fred moved to the office . mary went back to the bedroom . jeff got the milk there . bill journeyed to the garden . mary went back to the kitchen . fred went to the bedroom . mary journeyed to the bedroom . jeff put down the milk there . jeff picked up the milk there . bill went back to the office . mary went to the kitchen . jeff went back to the kitchen . jeff passed the milk to mary . mary gave the milk to jeff . jeff gave the milk to mary . mary got the football there . bill travelled to the bathroom . fred moved to the garden . fred got the apple there . mary handed the football to jeff . fred put down the apple . jeff left the football .\n",
      "QUESTION:  who received the football ?\n",
      "RESPONSE:  mary Incorrect\n",
      "EXPECTED:  jeff\n",
      "\n"
     ]
    }
   ],
   "source": [
    "# Locations of responses within contexts\n",
    "indices = np.argmax(n,axis=1)\n",
    "\n",
    "# Locations of actual answers within contexts \n",
    "indicesc = np.argmax(a,axis=1)\n",
    "\n",
    "for i,e,cw, cqa in list(zip(indices, indicesc, val_context_words, val_cqas))[:limit]:\n",
    "    ccc = \" \".join(cw)\n",
    "    print(\"TEXT: \",ccc)\n",
    "    print (\"QUESTION: \", \" \".join(cqa[3]))\n",
    "    print (\"RESPONSE: \", cw[i], [\"Correct\", \"Incorrect\"][i!=e])\n",
    "    print(\"EXPECTED: \", cw[e])\n",
    "    print()"
   ]
  },
  {
   "cell_type": "markdown",
   "metadata": {},
   "source": [
    "Let's keep training! In order to get good results, you may have to train for a long period of time (on my home desktop, it took about 12 hours), but you should eventually be able to reach very high accuracies (over 90%). Experienced users of Jupyter Notebook should note that at any time, you can interrupt training and still save the progress the network has made so far, as long as you keep the same `tf.Session`; this is useful if you want to visualize the attention and answers the network is currently giving."
   ]
  },
  {
   "cell_type": "code",
   "execution_count": 22,
   "metadata": {},
   "outputs": [
    {
     "name": "stderr",
     "output_type": "stream",
     "text": [
      "  0%|                                                                                                                                      | 0/3125 [00:00<?, ?it/s]"
     ]
    },
    {
     "name": "stdout",
     "output_type": "stream",
     "text": [
      "Iter 0.0, Minibatch Loss=  0.672774 Accuracy=  0.4625\n"
     ]
    },
    {
     "name": "stderr",
     "output_type": "stream",
     "text": [
      "  3%|███▉                                                                                                                      | 100/3125 [06:58<2:53:58,  3.45s/it]"
     ]
    },
    {
     "name": "stdout",
     "output_type": "stream",
     "text": [
      "Iter 100.0, Minibatch Loss=  0.672757 Accuracy=  0.552344\n"
     ]
    },
    {
     "name": "stderr",
     "output_type": "stream",
     "text": [
      "  6%|███████▊                                                                                                                  | 200/3125 [14:05<3:13:51,  3.98s/it]"
     ]
    },
    {
     "name": "stdout",
     "output_type": "stream",
     "text": [
      "Iter 200.0, Minibatch Loss=  0.67276 Accuracy=  0.563281\n"
     ]
    },
    {
     "name": "stderr",
     "output_type": "stream",
     "text": [
      " 10%|███████████▋                                                                                                              | 300/3125 [21:16<2:50:22,  3.62s/it]"
     ]
    },
    {
     "name": "stdout",
     "output_type": "stream",
     "text": [
      "Iter 300.0, Minibatch Loss=  0.672724 Accuracy=  0.666406\n"
     ]
    },
    {
     "name": "stderr",
     "output_type": "stream",
     "text": [
      " 13%|███████████████▌                                                                                                          | 400/3125 [28:43<3:17:32,  4.35s/it]"
     ]
    },
    {
     "name": "stdout",
     "output_type": "stream",
     "text": [
      "Iter 400.0, Minibatch Loss=  0.672714 Accuracy=  0.735156\n"
     ]
    },
    {
     "name": "stderr",
     "output_type": "stream",
     "text": [
      " 16%|███████████████████▌                                                                                                      | 500/3125 [36:04<3:31:08,  4.83s/it]"
     ]
    },
    {
     "name": "stdout",
     "output_type": "stream",
     "text": [
      "Iter 500.0, Minibatch Loss=  0.672723 Accuracy=  0.774219\n"
     ]
    },
    {
     "name": "stderr",
     "output_type": "stream",
     "text": [
      " 19%|███████████████████████▍                                                                                                  | 600/3125 [43:55<3:31:30,  5.03s/it]"
     ]
    },
    {
     "name": "stdout",
     "output_type": "stream",
     "text": [
      "Iter 600.0, Minibatch Loss=  0.672722 Accuracy=  0.816406\n"
     ]
    },
    {
     "name": "stderr",
     "output_type": "stream",
     "text": [
      " 22%|███████████████████████████▎                                                                                              | 700/3125 [51:34<3:11:04,  4.73s/it]"
     ]
    },
    {
     "name": "stdout",
     "output_type": "stream",
     "text": [
      "Iter 700.0, Minibatch Loss=  0.67267 Accuracy=  0.854688\n"
     ]
    },
    {
     "name": "stderr",
     "output_type": "stream",
     "text": [
      " 26%|███████████████████████████████▏                                                                                          | 800/3125 [59:10<2:24:24,  3.73s/it]"
     ]
    },
    {
     "name": "stdout",
     "output_type": "stream",
     "text": [
      "Iter 800.0, Minibatch Loss=  0.672644 Accuracy=  0.842969\n"
     ]
    },
    {
     "name": "stderr",
     "output_type": "stream",
     "text": [
      " 29%|██████████████████████████████████▌                                                                                     | 900/3125 [1:06:42<2:14:59,  3.64s/it]"
     ]
    },
    {
     "name": "stdout",
     "output_type": "stream",
     "text": [
      "Iter 900.0, Minibatch Loss=  0.672641 Accuracy=  0.839063\n"
     ]
    },
    {
     "name": "stderr",
     "output_type": "stream",
     "text": [
      " 32%|██████████████████████████████████████                                                                                 | 1000/3125 [1:14:36<2:54:10,  4.92s/it]"
     ]
    },
    {
     "name": "stdout",
     "output_type": "stream",
     "text": [
      "Iter 1000.0, Minibatch Loss=  0.672659 Accuracy=  0.866406\n"
     ]
    },
    {
     "name": "stderr",
     "output_type": "stream",
     "text": [
      " 35%|█████████████████████████████████████████▉                                                                             | 1100/3125 [1:22:04<2:40:32,  4.76s/it]"
     ]
    },
    {
     "name": "stdout",
     "output_type": "stream",
     "text": [
      "Iter 1100.0, Minibatch Loss=  0.672652 Accuracy=  0.873438\n"
     ]
    },
    {
     "name": "stderr",
     "output_type": "stream",
     "text": [
      " 38%|█████████████████████████████████████████████▋                                                                         | 1200/3125 [1:29:43<2:23:06,  4.46s/it]"
     ]
    },
    {
     "name": "stdout",
     "output_type": "stream",
     "text": [
      "Iter 1200.0, Minibatch Loss=  0.672654 Accuracy=  0.835156\n"
     ]
    },
    {
     "name": "stderr",
     "output_type": "stream",
     "text": [
      " 42%|█████████████████████████████████████████████████▌                                                                     | 1300/3125 [1:37:45<2:15:52,  4.47s/it]"
     ]
    },
    {
     "name": "stdout",
     "output_type": "stream",
     "text": [
      "Iter 1300.0, Minibatch Loss=  0.672625 Accuracy=  0.896094\n"
     ]
    },
    {
     "name": "stderr",
     "output_type": "stream",
     "text": [
      " 45%|█████████████████████████████████████████████████████▎                                                                 | 1400/3125 [1:45:21<1:43:42,  3.61s/it]"
     ]
    },
    {
     "name": "stdout",
     "output_type": "stream",
     "text": [
      "Iter 1400.0, Minibatch Loss=  0.672668 Accuracy=  0.895312\n"
     ]
    },
    {
     "name": "stderr",
     "output_type": "stream",
     "text": [
      " 48%|█████████████████████████████████████████████████████████                                                              | 1500/3125 [1:53:24<2:10:53,  4.83s/it]"
     ]
    },
    {
     "name": "stdout",
     "output_type": "stream",
     "text": [
      "Iter 1500.0, Minibatch Loss=  0.672647 Accuracy=  0.900781\n"
     ]
    },
    {
     "name": "stderr",
     "output_type": "stream",
     "text": [
      " 51%|████████████████████████████████████████████████████████████▉                                                          | 1600/3125 [2:01:07<2:13:24,  5.25s/it]"
     ]
    },
    {
     "name": "stdout",
     "output_type": "stream",
     "text": [
      "Iter 1600.0, Minibatch Loss=  0.67266 Accuracy=  0.908594\n"
     ]
    },
    {
     "name": "stderr",
     "output_type": "stream",
     "text": [
      " 54%|████████████████████████████████████████████████████████████████▋                                                      | 1700/3125 [2:08:49<1:37:01,  4.09s/it]"
     ]
    },
    {
     "name": "stdout",
     "output_type": "stream",
     "text": [
      "Iter 1700.0, Minibatch Loss=  0.672629 Accuracy=  0.927344\n"
     ]
    },
    {
     "name": "stderr",
     "output_type": "stream",
     "text": [
      " 58%|████████████████████████████████████████████████████████████████████▌                                                  | 1800/3125 [2:16:30<1:51:59,  5.07s/it]"
     ]
    },
    {
     "name": "stdout",
     "output_type": "stream",
     "text": [
      "Iter 1800.0, Minibatch Loss=  0.672622 Accuracy=  0.914063\n"
     ]
    },
    {
     "name": "stderr",
     "output_type": "stream",
     "text": [
      " 61%|████████████████████████████████████████████████████████████████████████▎                                              | 1900/3125 [2:24:07<1:23:12,  4.08s/it]"
     ]
    },
    {
     "name": "stdout",
     "output_type": "stream",
     "text": [
      "Iter 1900.0, Minibatch Loss=  0.672625 Accuracy=  0.932031\n"
     ]
    },
    {
     "name": "stderr",
     "output_type": "stream",
     "text": [
      " 64%|████████████████████████████████████████████████████████████████████████████▏                                          | 2000/3125 [2:32:00<1:23:51,  4.47s/it]"
     ]
    },
    {
     "name": "stdout",
     "output_type": "stream",
     "text": [
      "Iter 2000.0, Minibatch Loss=  0.672632 Accuracy=  0.924219\n"
     ]
    },
    {
     "name": "stderr",
     "output_type": "stream",
     "text": [
      " 67%|███████████████████████████████████████████████████████████████████████████████▉                                       | 2100/3125 [2:39:42<1:20:01,  4.68s/it]"
     ]
    },
    {
     "name": "stdout",
     "output_type": "stream",
     "text": [
      "Iter 2100.0, Minibatch Loss=  0.672626 Accuracy=  0.934375\n"
     ]
    },
    {
     "name": "stderr",
     "output_type": "stream",
     "text": [
      " 70%|███████████████████████████████████████████████████████████████████████████████████▊                                   | 2200/3125 [2:47:07<1:11:49,  4.66s/it]"
     ]
    },
    {
     "name": "stdout",
     "output_type": "stream",
     "text": [
      "Iter 2200.0, Minibatch Loss=  0.672638 Accuracy=  0.922656\n"
     ]
    },
    {
     "name": "stderr",
     "output_type": "stream",
     "text": [
      " 74%|███████████████████████████████████████████████████████████████████████████████████████▌                               | 2300/3125 [2:54:43<1:00:58,  4.43s/it]"
     ]
    },
    {
     "name": "stdout",
     "output_type": "stream",
     "text": [
      "Iter 2300.0, Minibatch Loss=  0.672625 Accuracy=  0.914844\n"
     ]
    },
    {
     "name": "stderr",
     "output_type": "stream",
     "text": [
      " 77%|████████████████████████████████████████████████████████████████████████████████████████████▉                            | 2400/3125 [3:02:21<52:58,  4.38s/it]"
     ]
    },
    {
     "name": "stdout",
     "output_type": "stream",
     "text": [
      "Iter 2400.0, Minibatch Loss=  0.672631 Accuracy=  0.9375\n"
     ]
    },
    {
     "name": "stderr",
     "output_type": "stream",
     "text": [
      " 80%|████████████████████████████████████████████████████████████████████████████████████████████████▊                        | 2500/3125 [3:10:05<42:46,  4.11s/it]"
     ]
    },
    {
     "name": "stdout",
     "output_type": "stream",
     "text": [
      "Iter 2500.0, Minibatch Loss=  0.672617 Accuracy=  0.94375\n"
     ]
    },
    {
     "name": "stderr",
     "output_type": "stream",
     "text": [
      " 83%|████████████████████████████████████████████████████████████████████████████████████████████████████▋                    | 2600/3125 [3:17:30<32:40,  3.73s/it]"
     ]
    },
    {
     "name": "stdout",
     "output_type": "stream",
     "text": [
      "Iter 2600.0, Minibatch Loss=  0.67263 Accuracy=  0.940625\n"
     ]
    },
    {
     "name": "stderr",
     "output_type": "stream",
     "text": [
      " 86%|████████████████████████████████████████████████████████████████████████████████████████████████████████▌                | 2700/3125 [3:25:15<30:29,  4.30s/it]"
     ]
    },
    {
     "name": "stdout",
     "output_type": "stream",
     "text": [
      "Iter 2700.0, Minibatch Loss=  0.672621 Accuracy=  0.944531\n"
     ]
    },
    {
     "name": "stderr",
     "output_type": "stream",
     "text": [
      " 90%|████████████████████████████████████████████████████████████████████████████████████████████████████████████▍            | 2800/3125 [3:32:55<24:21,  4.50s/it]"
     ]
    },
    {
     "name": "stdout",
     "output_type": "stream",
     "text": [
      "Iter 2800.0, Minibatch Loss=  0.672631 Accuracy=  0.93125\n"
     ]
    },
    {
     "name": "stderr",
     "output_type": "stream",
     "text": [
      " 93%|████████████████████████████████████████████████████████████████████████████████████████████████████████████████▎        | 2900/3125 [3:40:30<12:20,  3.29s/it]"
     ]
    },
    {
     "name": "stdout",
     "output_type": "stream",
     "text": [
      "Iter 2900.0, Minibatch Loss=  0.672638 Accuracy=  0.94375\n"
     ]
    },
    {
     "name": "stderr",
     "output_type": "stream",
     "text": [
      " 96%|████████████████████████████████████████████████████████████████████████████████████████████████████████████████████▏    | 3000/3125 [3:48:00<10:35,  5.08s/it]"
     ]
    },
    {
     "name": "stdout",
     "output_type": "stream",
     "text": [
      "Iter 3000.0, Minibatch Loss=  0.67261 Accuracy=  0.941406\n"
     ]
    },
    {
     "name": "stderr",
     "output_type": "stream",
     "text": [
      " 99%|████████████████████████████████████████████████████████████████████████████████████████████████████████████████████████ | 3100/3125 [3:55:40<02:06,  5.05s/it]"
     ]
    },
    {
     "name": "stdout",
     "output_type": "stream",
     "text": [
      "Iter 3100.0, Minibatch Loss=  0.672613 Accuracy=  0.953125\n"
     ]
    },
    {
     "name": "stderr",
     "output_type": "stream",
     "text": [
      "100%|█████████████████████████████████████████████████████████████████████████████████████████████████████████████████████████| 3125/3125 [3:57:46<00:00,  4.14s/it]\n"
     ]
    }
   ],
   "source": [
    "train(training_iterations_count, batch_size)"
   ]
  },
  {
   "cell_type": "code",
   "execution_count": 23,
   "metadata": {},
   "outputs": [
    {
     "name": "stdout",
     "output_type": "stream",
     "text": [
      "0.95\n"
     ]
    }
   ],
   "source": [
    "# Final testing accuracy\n",
    "print(np.mean(sess.run([corrects], feed_dict= prep_batch(final_test_data))[0]))"
   ]
  },
  {
   "cell_type": "markdown",
   "metadata": {},
   "source": [
    "Once we're done viewing what our model is returning, we can close the session to free up system resources."
   ]
  },
  {
   "cell_type": "code",
   "execution_count": 24,
   "metadata": {
    "collapsed": true
   },
   "outputs": [],
   "source": [
    "sess.close()"
   ]
  },
  {
   "cell_type": "markdown",
   "metadata": {},
   "source": [
    "### Looking for more? \n",
    "\n",
    "There's a lot still left to be done and experimented with:\n",
    "\n",
    "- *Other tasks in bAbI.* We've only sampled the many tasks that bAbI has to offer. Try changing the preprocessing to fit another task and see how our dynamic memory network performs on it.  You may want to retrain the network before you try running it on the new task, of course. If the task doesn't guarantee  the answer is inside the context, you may want to compare output to a dictionary of words and their corresponding vectors instead. (Those tasks are 6-10 and 17-20.)  I  recommend trying task 1 or 3, which you can do by changing the values of `test_set_file` and `train_set_file`.\n",
    "\n",
    "- *Supervised training.* Our attention mechanism is *unsupervised*, in that we don't specify explicitly which sentences should be attended to and instead let the network figure that out on its own. Try adding loss to the network that encourages the attention mechanism toward attending to the right sentences.\n",
    "\n",
    "- *Coattention.* Instead of attending simply over the input sentences, some researchers have found success in what they call [\"dynamic coattention networks\"](https://arxiv.org/pdf/1611.01604.pdf), which attends over a matrix representing two locations in two sequences simultaneously.\n",
    "\n",
    "- *Alternate vectorization schemes and sources.* Try making more intelligent mappings between sentences and vectors, or maybe use a different data set. GloVe offers larger corpi of up to eight-hundred-forty billion distinct tokens, of three hundred dimensions each.\n",
    "\n",
    "\n",
    "<p><em>This post is a collaboration between O'Reilly and </em><a href=\"https://www.tensorflow.org/\"><em>TensorFlow</em></a><em>. </em><a href=\"http://www.oreilly.com/about/editorial_independence.html\"><em>See our statement of editorial independence</em></a><em>.</em></p>"
   ]
  }
 ],
 "metadata": {
  "anaconda-cloud": {},
  "celltoolbar": "Raw Cell Format",
  "kernelspec": {
   "display_name": "Python 3",
   "language": "python",
   "name": "python3"
  },
  "language_info": {
   "codemirror_mode": {
    "name": "ipython",
    "version": 3
   },
   "file_extension": ".py",
   "mimetype": "text/x-python",
   "name": "python",
   "nbconvert_exporter": "python",
   "pygments_lexer": "ipython3",
   "version": "3.6.4"
  }
 },
 "nbformat": 4,
 "nbformat_minor": 2
}
